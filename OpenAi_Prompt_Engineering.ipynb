{
 "cells": [
  {
   "cell_type": "code",
   "execution_count": 1,
   "metadata": {
    "cell_id": "5ed2ff25cab44b8cb03f6cc690eda0af",
    "deepnote_cell_type": "code",
    "deepnote_to_be_reexecuted": false,
    "execution_millis": 108,
    "execution_start": 1719331570576,
    "source_hash": null
   },
   "outputs": [
    {
     "name": "stdout",
     "output_type": "stream",
     "text": [
      "Number of articles before cleaning: 17044\n",
      "Number of articles after cleaning: 16769\n"
     ]
    }
   ],
   "source": [
    "import pandas as pd\n",
    "from tqdm.auto import tqdm\n",
    "\n",
    "\n",
    "full_articles = pd.read_csv(\"articles_full.csv\")\n",
    "print(\"Number of articles before cleaning: {}\".format(len(full_articles)))\n",
    "full_articles = full_articles[full_articles['full_article'].notna()]\n",
    "print(\"Number of articles after cleaning: {}\".format(len(full_articles)))\n",
    "full_articles[\"LLM_Output\"] = full_articles[\"LLM_Output\"].astype(str)"
   ]
  },
  {
   "cell_type": "code",
   "execution_count": null,
   "metadata": {},
   "outputs": [],
   "source": []
  },
  {
   "cell_type": "code",
   "execution_count": 2,
   "metadata": {},
   "outputs": [],
   "source": [
    "from openai import OpenAI\n",
    "client = OpenAI(api_key=\"{YOUR_KEY}\")"
   ]
  },
  {
   "cell_type": "code",
   "execution_count": null,
   "metadata": {
    "cell_id": "0b96629397b9413b9506ed5a1cd472ad",
    "deepnote_cell_type": "code",
    "deepnote_to_be_reexecuted": false,
    "execution_millis": 25,
    "execution_start": 1719331571865,
    "source_hash": null
   },
   "outputs": [
    {
     "data": {
      "application/vnd.jupyter.widget-view+json": {
       "model_id": "2e34c0e4fcb74bc1806a32b6e34b44ce",
       "version_major": 2,
       "version_minor": 0
      },
      "text/plain": [
       "  0%|          | 0/16769 [00:00<?, ?it/s]"
      ]
     },
     "metadata": {},
     "output_type": "display_data"
    }
   ],
   "source": [
    "\n",
    "message = \"\"\"\n",
    "Consider you are providing a TLDR of a finance news article for a project.\n",
    "The summary needs to be valuable to build a sentiment analysis model on it.\n",
    "If the article is already less than 5 lines, then provide a 2 line summary, else always provide 5 line summary.\n",
    "I will also provide the company name for which the article was extracted.\n",
    "Following should be the format of your output.\n",
    "Try to make the summary with respect to the company name I am providing.\n",
    "The sentiment should be with respect the company name I am providing.\n",
    "If you are not confident on the sentiment, put \"Unsure\".\n",
    "For relevance, based on the article provide if the article is high or low relevant. If not relevant put NA.\n",
    "\n",
    "Summary: <Summary of the article in 5 lines>\n",
    "Overall sentiment: <Positive or Negative>\n",
    "Relevance to company: <High, Low or NA>\n",
    "Company Name: <Repeat the company I am providing>\n",
    "\"\"\"\n",
    "for index, row in tqdm(full_articles.iterrows(), total=full_articles.shape[0]):\n",
    "    if row[\"LLM_Output\"] != \"0\":\n",
    "        continue\n",
    "    article = row['full_article']\n",
    "    holding = row['holding']\n",
    "    response = client.chat.completions.create(\n",
    "      model=\"gpt-3.5-turbo\",\n",
    "      messages=[\n",
    "        {\n",
    "          \"role\": \"system\",\n",
    "          \"content\": message\n",
    "        },\n",
    "        {\n",
    "          \"role\": \"user\",\n",
    "          \"content\": \"company name: {} \\n{}\".format(holding, article)\n",
    "        }\n",
    "      ]\n",
    "    )\n",
    "    full_articles.at[index,'LLM_Output'] = response.choices[0].message.content"
   ]
  },
  {
   "cell_type": "code",
   "execution_count": null,
   "metadata": {},
   "outputs": [],
   "source": []
  },
  {
   "cell_type": "code",
   "execution_count": null,
   "metadata": {},
   "outputs": [],
   "source": []
  },
  {
   "cell_type": "code",
   "execution_count": null,
   "metadata": {},
   "outputs": [],
   "source": []
  }
 ],
 "metadata": {
  "deepnote_execution_queue": [],
  "deepnote_notebook_id": "501b6d672a0942b7a01a9adda7a2554c",
  "kernelspec": {
   "display_name": "Python 3 (ipykernel)",
   "language": "python",
   "name": "python3"
  },
  "language_info": {
   "codemirror_mode": {
    "name": "ipython",
    "version": 3
   },
   "file_extension": ".py",
   "mimetype": "text/x-python",
   "name": "python",
   "nbconvert_exporter": "python",
   "pygments_lexer": "ipython3",
   "version": "3.9.16"
  }
 },
 "nbformat": 4,
 "nbformat_minor": 1
}
