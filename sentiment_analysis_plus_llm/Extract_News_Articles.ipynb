{
 "cells": [
  {
   "cell_type": "markdown",
   "id": "d81349e7",
   "metadata": {},
   "source": [
    "This code block is designed to extract the full text of articles from their respective URLs and store the content in a dataset. The script reads a CSV file containing article metadata, including URLs, and initializes an empty column for storing the full article text. It then iterates over each row in the dataset, using the `newspaper` library to download and parse the article content from the provided URL. If the extraction is successful, the full text is stored in the `full_article` column; otherwise, any exceptions are caught, logged, and the script continues processing the remaining articles. Finally, the updated dataset, now containing the full text of each article, is saved to a new CSV file.\n"
   ]
  },
  {
   "cell_type": "code",
   "execution_count": null,
   "id": "737bdf18",
   "metadata": {
    "scrolled": true
   },
   "outputs": [],
   "source": [
    "import pandas as pd\n",
    "from tqdm.auto import tqdm\n",
    "import traceback\n",
    "import numpy as np\n",
    "from newspaper import Article\n",
    "apple_data = pd.read_csv(\"articles.csv\") # Assuming you have already extracted data from NYT API\n",
    "apple_data[\"full_article\"] = \"\"\n",
    "\n",
    "for index, row in tqdm(apple_data.iterrows(), total=apple_data.shape[0]):\n",
    "    try:\n",
    "        article = Article(row[\"web_url\"])\n",
    "        article.download()\n",
    "        article.parse()\n",
    "        apple_data.at[index,'full_article'] = article.text\n",
    "    except Exception as e:\n",
    "        print(e)\n",
    "        print(traceback.format_exc())\n",
    "        continue\n",
    "        \n",
    "apple_data.to_csv(\"full_articles.csv\")"
   ]
  },
  {
   "cell_type": "code",
   "execution_count": null,
   "id": "468defb7",
   "metadata": {},
   "outputs": [],
   "source": []
  },
  {
   "cell_type": "code",
   "execution_count": null,
   "id": "76c8ac38",
   "metadata": {},
   "outputs": [],
   "source": []
  },
  {
   "cell_type": "code",
   "execution_count": null,
   "id": "cc384cec",
   "metadata": {},
   "outputs": [],
   "source": []
  },
  {
   "cell_type": "code",
   "execution_count": null,
   "id": "17d43303",
   "metadata": {},
   "outputs": [],
   "source": []
  },
  {
   "cell_type": "code",
   "execution_count": null,
   "id": "ee999406",
   "metadata": {},
   "outputs": [],
   "source": []
  },
  {
   "cell_type": "code",
   "execution_count": null,
   "id": "eb50e65f",
   "metadata": {},
   "outputs": [],
   "source": []
  },
  {
   "cell_type": "code",
   "execution_count": null,
   "id": "1a2e682e",
   "metadata": {},
   "outputs": [],
   "source": []
  },
  {
   "cell_type": "code",
   "execution_count": null,
   "id": "a5245544",
   "metadata": {},
   "outputs": [],
   "source": []
  },
  {
   "cell_type": "code",
   "execution_count": null,
   "id": "19fa0053",
   "metadata": {},
   "outputs": [],
   "source": []
  },
  {
   "cell_type": "code",
   "execution_count": null,
   "id": "33191313",
   "metadata": {},
   "outputs": [],
   "source": []
  }
 ],
 "metadata": {
  "kernelspec": {
   "display_name": "Python 3 (ipykernel)",
   "language": "python",
   "name": "python3"
  },
  "language_info": {
   "codemirror_mode": {
    "name": "ipython",
    "version": 3
   },
   "file_extension": ".py",
   "mimetype": "text/x-python",
   "name": "python",
   "nbconvert_exporter": "python",
   "pygments_lexer": "ipython3",
   "version": "3.9.16"
  }
 },
 "nbformat": 4,
 "nbformat_minor": 5
}
