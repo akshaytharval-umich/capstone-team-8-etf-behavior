{
 "cells": [
  {
   "cell_type": "markdown",
   "metadata": {},
   "source": [
    "This script processes a dataset of financial news articles to generate summaries and sentiment analysis using the OpenAI API. It begins by reading the articles from a CSV file, cleaning the data by removing any entries with missing text, and ensuring that all entries in the `LLM_Output` column are in string format. The script then iterates through each article, sending the content to the OpenAI model with a prompt designed to generate a five-line summary, assess the sentiment towards a specific company, and evaluate the relevance of the article. The generated output is stored back in the dataset for further analysis or modeling.\n"
   ]
  },
  {
   "cell_type": "markdown",
   "metadata": {},
   "source": [
    "This code block reads a CSV file containing full articles into a pandas DataFrame and performs basic data cleaning. First, the total number of articles is printed before any cleaning is done. The code then filters out any rows where the `full_article` column contains missing values (`NaN`), ensuring that only complete articles are kept. After cleaning, the remaining number of articles is printed. Finally, the `LLM_Output` column is converted to a string type to ensure consistent data processing in later stages.\n"
   ]
  },
  {
   "cell_type": "code",
   "execution_count": null,
   "metadata": {
    "cell_id": "5ed2ff25cab44b8cb03f6cc690eda0af",
    "deepnote_cell_type": "code",
    "deepnote_to_be_reexecuted": false,
    "execution_millis": 108,
    "execution_start": 1719331570576,
    "source_hash": null
   },
   "outputs": [],
   "source": [
    "import pandas as pd\n",
    "from tqdm.auto import tqdm\n",
    "from openai import OpenAI\n",
    "\n",
    "full_articles = pd.read_csv(\"articles_full.csv\")\n",
    "print(\"Number of articles before cleaning: {}\".format(len(full_articles)))\n",
    "full_articles = full_articles[full_articles['full_article'].notna()]\n",
    "print(\"Number of articles after cleaning: {}\".format(len(full_articles)))\n",
    "full_articles[\"llm_output\"] = full_articles[\"llm_output\"].astype(str)"
   ]
  },
  {
   "cell_type": "markdown",
   "metadata": {},
   "source": [
    "In this section, the script uses the OpenAI API to generate summaries and sentiment analyses for each financial news article. A `client` is created using the OpenAI API key, and a detailed prompt (`message`) is defined to instruct the AI model on how to summarize the articles. The prompt includes instructions to generate a five-line summary, determine the overall sentiment (positive or negative), and assess the relevance of the article to a specific company.\n",
    "\n",
    "The script then iterates through each article in the dataset using a loop. For each article that has not already been processed (where `LLM_Output` is \"0\"), the article content and the associated company name are sent to the OpenAI model. The model returns a formatted output with the summary, sentiment, and relevance information, which is then stored back into the dataset. This process enriches the dataset with valuable insights that can be used for building a sentiment analysis model.\n"
   ]
  },
  {
   "cell_type": "code",
   "execution_count": null,
   "metadata": {
    "cell_id": "0b96629397b9413b9506ed5a1cd472ad",
    "deepnote_cell_type": "code",
    "deepnote_to_be_reexecuted": false,
    "execution_millis": 25,
    "execution_start": 1719331571865,
    "source_hash": null
   },
   "outputs": [],
   "source": [
    "\n",
    "client = OpenAI(api_key=\"{YOUR_KEY}\")\n",
    "message = \"\"\"\n",
    "Consider you are providing a TLDR of a finance news article for a project.\n",
    "The summary needs to be valuable to build a sentiment analysis model on it.\n",
    "If the article is already less than 5 lines, then provide a 2 line summary, else always provide 5 line summary.\n",
    "I will also provide the company name for which the article was extracted.\n",
    "Following should be the format of your output.\n",
    "Try to make the summary with respect to the company name I am providing.\n",
    "The sentiment should be with respect the company name I am providing.\n",
    "If you are not confident on the sentiment, put \"Unsure\".\n",
    "For relevance, based on the article provide if the article is high or low relevant. If not relevant put NA.\n",
    "\n",
    "Summary: <Summary of the article in 5 lines>\n",
    "Overall sentiment: <Positive or Negative>\n",
    "Relevance to company: <High, Low or NA>\n",
    "Company Name: <Repeat the company I am providing>\n",
    "\"\"\"\n",
    "for index, row in tqdm(full_articles.iterrows(), total=full_articles.shape[0]):\n",
    "    if row[\"llm_output\"] != \"0\":\n",
    "        continue\n",
    "    if index%100 == 0:\n",
    "        full_articles.to_csv(\"articles_with_llm.csv\")\n",
    "    article = row['full_article']\n",
    "    holding = row['holding']\n",
    "    response = client.chat.completions.create(\n",
    "      model=\"gpt-3.5-turbo\",\n",
    "      messages=[\n",
    "        {\n",
    "          \"role\": \"system\",\n",
    "          \"content\": message\n",
    "        },\n",
    "        {\n",
    "          \"role\": \"user\",\n",
    "          \"content\": \"company name: {} \\n{}\".format(holding, article)\n",
    "        }\n",
    "      ]\n",
    "    )\n",
    "    full_articles.at[index,'llm_output'] = response.choices[0].message.content\n",
    "\n",
    "full_articles.to_csv(\"articles_with_llm.csv\")"
   ]
  },
  {
   "cell_type": "code",
   "execution_count": null,
   "metadata": {},
   "outputs": [],
   "source": []
  },
  {
   "cell_type": "code",
   "execution_count": null,
   "metadata": {},
   "outputs": [],
   "source": []
  },
  {
   "cell_type": "code",
   "execution_count": null,
   "metadata": {},
   "outputs": [],
   "source": []
  }
 ],
 "metadata": {
  "deepnote_execution_queue": [],
  "deepnote_notebook_id": "501b6d672a0942b7a01a9adda7a2554c",
  "kernelspec": {
   "display_name": "Python 3 (ipykernel)",
   "language": "python",
   "name": "python3"
  },
  "language_info": {
   "codemirror_mode": {
    "name": "ipython",
    "version": 3
   },
   "file_extension": ".py",
   "mimetype": "text/x-python",
   "name": "python",
   "nbconvert_exporter": "python",
   "pygments_lexer": "ipython3",
   "version": "3.9.13"
  }
 },
 "nbformat": 4,
 "nbformat_minor": 1
}
