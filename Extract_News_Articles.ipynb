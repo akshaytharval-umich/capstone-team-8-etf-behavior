{
 "cells": [
  {
   "cell_type": "code",
   "execution_count": 1,
   "id": "49e16875",
   "metadata": {},
   "outputs": [],
   "source": [
    "import pandas as pd\n",
    "from tqdm.auto import tqdm\n",
    "import traceback\n",
    "import numpy as np\n",
    "from newspaper import Article\n",
    "apple_data = pd.read_csv(\"articles.csv\")\n",
    "apple_data[\"full_article\"] = \"\""
   ]
  },
  {
   "cell_type": "code",
   "execution_count": 2,
   "id": "737bdf18",
   "metadata": {
    "scrolled": true
   },
   "outputs": [
    {
     "data": {
      "application/vnd.jupyter.widget-view+json": {
       "model_id": "ef468475870641a8bf63214972ef1d90",
       "version_major": 2,
       "version_minor": 0
      },
      "text/plain": [
       "  0%|          | 0/161 [00:00<?, ?it/s]"
      ]
     },
     "metadata": {},
     "output_type": "display_data"
    },
    {
     "name": "stdout",
     "output_type": "stream",
     "text": [
      "Article `download()` failed with 500 Server Error: Internal Server Error for url: https://www.nytimes.com/2018/09/30/business/china-health-care-doctors.html on URL https://www.nytimes.com/2018/09/30/business/china-health-care-doctors.html\n",
      "Traceback (most recent call last):\n",
      "  File \"/var/folders/ly/lqb_k1tx0j936m50r6rnszc00000gn/T/ipykernel_22083/883921266.py\", line 7, in <module>\n",
      "    article.parse()\n",
      "  File \"/Users/akshaytharval/opt/anaconda3/envs/mirro_test/lib/python3.9/site-packages/newspaper/article.py\", line 191, in parse\n",
      "    self.throw_if_not_downloaded_verbose()\n",
      "  File \"/Users/akshaytharval/opt/anaconda3/envs/mirro_test/lib/python3.9/site-packages/newspaper/article.py\", line 531, in throw_if_not_downloaded_verbose\n",
      "    raise ArticleException('Article `download()` failed with %s on URL %s' %\n",
      "newspaper.article.ArticleException: Article `download()` failed with 500 Server Error: Internal Server Error for url: https://www.nytimes.com/2018/09/30/business/china-health-care-doctors.html on URL https://www.nytimes.com/2018/09/30/business/china-health-care-doctors.html\n",
      "\n"
     ]
    }
   ],
   "source": [
    "for index, row in tqdm(apple_data.iterrows(), total=apple_data.shape[0]):\n",
    "    try:\n",
    "#         if row[\"full_article\"] is not np.nan:\n",
    "#             continue\n",
    "        article = Article(row[\"web_url\"])\n",
    "        article.download()\n",
    "        article.parse()\n",
    "        apple_data.at[index,'full_article'] = article.text\n",
    "    except Exception as e:\n",
    "        print(e)\n",
    "        print(traceback.format_exc())\n",
    "        continue\n",
    "        \n",
    "apple_data.to_csv(\"articles_Eli_Lilly.csv\")"
   ]
  },
  {
   "cell_type": "code",
   "execution_count": null,
   "id": "468defb7",
   "metadata": {},
   "outputs": [],
   "source": []
  },
  {
   "cell_type": "code",
   "execution_count": null,
   "id": "76c8ac38",
   "metadata": {},
   "outputs": [],
   "source": []
  },
  {
   "cell_type": "code",
   "execution_count": null,
   "id": "cc384cec",
   "metadata": {},
   "outputs": [],
   "source": []
  },
  {
   "cell_type": "code",
   "execution_count": null,
   "id": "17d43303",
   "metadata": {},
   "outputs": [],
   "source": []
  },
  {
   "cell_type": "code",
   "execution_count": null,
   "id": "ee999406",
   "metadata": {},
   "outputs": [],
   "source": []
  },
  {
   "cell_type": "code",
   "execution_count": null,
   "id": "eb50e65f",
   "metadata": {},
   "outputs": [],
   "source": []
  },
  {
   "cell_type": "code",
   "execution_count": null,
   "id": "1a2e682e",
   "metadata": {},
   "outputs": [],
   "source": []
  },
  {
   "cell_type": "code",
   "execution_count": null,
   "id": "a5245544",
   "metadata": {},
   "outputs": [],
   "source": []
  },
  {
   "cell_type": "code",
   "execution_count": null,
   "id": "19fa0053",
   "metadata": {},
   "outputs": [],
   "source": []
  },
  {
   "cell_type": "code",
   "execution_count": null,
   "id": "33191313",
   "metadata": {},
   "outputs": [],
   "source": []
  }
 ],
 "metadata": {
  "kernelspec": {
   "display_name": "Python 3 (ipykernel)",
   "language": "python",
   "name": "python3"
  },
  "language_info": {
   "codemirror_mode": {
    "name": "ipython",
    "version": 3
   },
   "file_extension": ".py",
   "mimetype": "text/x-python",
   "name": "python",
   "nbconvert_exporter": "python",
   "pygments_lexer": "ipython3",
   "version": "3.9.16"
  }
 },
 "nbformat": 4,
 "nbformat_minor": 5
}
