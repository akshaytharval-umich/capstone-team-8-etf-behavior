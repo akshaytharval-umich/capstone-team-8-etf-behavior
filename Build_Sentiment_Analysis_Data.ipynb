{
 "cells": [
  {
   "cell_type": "code",
   "execution_count": 1,
   "id": "1e5d0017",
   "metadata": {},
   "outputs": [],
   "source": [
    "import pandas as pd\n",
    "import re\n",
    "from tqdm import tqdm\n",
    "\n",
    "df_articles = pd.read_excel(\"article_columns_filtered.xlsx\")\n",
    "df_etf = pd.read_csv(\"VOO_historical_data.csv\")"
   ]
  },
  {
   "cell_type": "code",
   "execution_count": 3,
   "id": "2c4d54ac",
   "metadata": {
    "scrolled": true
   },
   "outputs": [
    {
     "name": "stderr",
     "output_type": "stream",
     "text": [
      "100%|██████████████████████████████████| 30740/30740 [00:02<00:00, 12173.56it/s]\n"
     ]
    }
   ],
   "source": [
    "# The original code was prompted by ChatGPT and then changed according to our use case\n",
    "\n",
    "def extract_info(llm_output):\n",
    "    if pd.isna(llm_output):\n",
    "        return pd.Series([None, None, None, None])\n",
    "    \n",
    "    summary_match = re.search(r\"Summary: (.*?)\\n\", llm_output)\n",
    "    sentiment_match = re.search(r\"Overall sentiment: (.*?)\\n\", llm_output)\n",
    "    relevance_match = re.search(r\"Relevance to company: (.*?)\\n\", llm_output)\n",
    "    company_match = re.search(r\"Company Name: (.*)\", llm_output)\n",
    "    \n",
    "    summary = summary_match.group(1) if summary_match else None\n",
    "    sentiment = sentiment_match.group(1) if sentiment_match else None\n",
    "    relevance = relevance_match.group(1) if relevance_match else None\n",
    "    company = company_match.group(1) if company_match else None\n",
    "    \n",
    "    return pd.Series([summary, company, sentiment, relevance])\n",
    "\n",
    "# Convert dates to datetime format\n",
    "df_articles['pub_date'] = pd.to_datetime(df_articles['pub_date'], utc=True).dt.date\n",
    "df_etf['Date'] = pd.to_datetime(df_etf['Date'], utc=True).dt.date\n",
    "\n",
    "# Merge datasets on date\n",
    "merged_df = pd.merge(df_articles, df_etf, left_on='pub_date', right_on='Date')\n",
    "\n",
    "tqdm.pandas()\n",
    "merged_df[['Summary', 'Company Name', 'Overall Sentiment', 'Relevance to company']] = merged_df.progress_apply(lambda row: extract_info(row['LLM_Output']), axis=1)\n",
    "merged_df = merged_df[merged_df['Summary'].notna()]\n",
    "\n",
    "# Create the label column\n",
    "merged_df['label'] = merged_df.apply(lambda row: 'POSITIVE' if row['Close'] > row['Open'] else 'NEGATIVE', axis=1)\n",
    "\n",
    "# Select relevant columns for the final dataset\n",
    "final_df = merged_df[['pub_date', 'full_article', 'Summary', 'Company Name', 'Overall Sentiment', 'Relevance to company', 'Open', 'Close', 'label']]\n"
   ]
  },
  {
   "cell_type": "code",
   "execution_count": 7,
   "id": "87513ae1",
   "metadata": {},
   "outputs": [],
   "source": [
    "final_df.to_csv(\"Full_Data_Sentiment_Analysis_LLM_Output_ETF_value_Label.csv\")"
   ]
  },
  {
   "cell_type": "code",
   "execution_count": null,
   "id": "60c0d0db",
   "metadata": {},
   "outputs": [],
   "source": []
  },
  {
   "cell_type": "code",
   "execution_count": null,
   "id": "16e32efd",
   "metadata": {},
   "outputs": [],
   "source": []
  }
 ],
 "metadata": {
  "kernelspec": {
   "display_name": "Python 3 (ipykernel)",
   "language": "python",
   "name": "python3"
  },
  "language_info": {
   "codemirror_mode": {
    "name": "ipython",
    "version": 3
   },
   "file_extension": ".py",
   "mimetype": "text/x-python",
   "name": "python",
   "nbconvert_exporter": "python",
   "pygments_lexer": "ipython3",
   "version": "3.9.16"
  }
 },
 "nbformat": 4,
 "nbformat_minor": 5
}
